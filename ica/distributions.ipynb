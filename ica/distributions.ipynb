{
 "cells": [
  {
   "cell_type": "code",
   "execution_count": null,
   "metadata": {},
   "outputs": [],
   "source": [
    "import matplotlib.pyplot as plt\n",
    "from mpl_toolkits.mplot3d import Axes3D\n",
    "import numpy as np\n",
    "from scipy import signal"
   ]
  },
  {
   "cell_type": "code",
   "execution_count": null,
   "metadata": {},
   "outputs": [],
   "source": [
    "A = np.array([[0.5, 2.5], [0.5, 0.5]])\n",
    "# theta = np.pi / 4\n",
    "# A = np.array([[np.cos(theta), -np.sin(theta)], [np.sin(theta), np.cos(theta)]])\n",
    "\n",
    "n_samples = 1000\n",
    "t = np.linspace(0, 8, n_samples)"
   ]
  },
  {
   "cell_type": "code",
   "execution_count": null,
   "metadata": {},
   "outputs": [],
   "source": [
    "# Explore PDFs under linear mappings\n",
    "x0 = np.linspace(-3, 3, 50)\n",
    "y0 = np.linspace(-3, 3, 50)\n",
    "xv, yv = np.meshgrid(x0, y0, sparse=False, indexing='xy')\n",
    "\n",
    "zv = np.heaviside(xv + 1, 0) * np.heaviside(yv + 1, 0) * np.heaviside((1 - xv), 0) * np.heaviside((1 - yv), 0)\n",
    "\n",
    "\n",
    "fig = plt.figure()\n",
    "ax = fig.add_subplot(111, projection='3d')\n",
    "\n",
    "ax.scatter(xv, yv, zv)"
   ]
  },
  {
   "cell_type": "code",
   "execution_count": null,
   "metadata": {},
   "outputs": [],
   "source": [
    "x = np.random.uniform(low=-1, high=1, size=(2, n_samples))\n",
    "\n",
    "plt.figure()\n",
    "plt.scatter(x[0, :], x[1, :], alpha=0.5)\n",
    "plt.xlim([-2, 2])\n",
    "plt.ylim([-2, 2])\n",
    "\n",
    "plt.figure()\n",
    "plt.plot(t, x.T)\n",
    "\n",
    "x_mix = np.dot(A, x)\n",
    "plt.figure()\n",
    "plt.plot(t, x_mix.T)\n",
    "\n",
    "\n",
    "plt.figure()\n",
    "plt.scatter(x_mix[0, :], x_mix[1, :])\n",
    "plt.xlim([-3, 3])\n",
    "plt.ylim([-3, 3])"
   ]
  },
  {
   "cell_type": "code",
   "execution_count": null,
   "metadata": {},
   "outputs": [],
   "source": [
    "s0 = np.sin(2 * t)  # Signal 0 : sinusoidal signal\n",
    "s1 = np.sign(np.sin(3 * t))  # Signal 2 : square signal\n",
    "s2 = signal.sawtooth(2 * np.pi * t)  # Signal 3: saw tooth signal\n",
    "\n",
    "s = np.array([s0, s2])\n",
    "\n",
    "s_mix = np.dot(A, s)\n",
    "\n",
    "s_mix.shape"
   ]
  },
  {
   "cell_type": "code",
   "execution_count": null,
   "metadata": {},
   "outputs": [],
   "source": [
    "s = s_mix.T\n",
    "\n",
    "plt.figure()\n",
    "plt.plot(t, s)\n",
    "# plt.plot(s2)\n",
    "\n",
    "plt.figure()\n",
    "plt.scatter(s[:, 0], s[:, 1])\n",
    "\n",
    "\n",
    "plt.figure()\n",
    "plt.scatter(s[:, 0], s[:, 1])"
   ]
  },
  {
   "cell_type": "code",
   "execution_count": null,
   "metadata": {},
   "outputs": [],
   "source": []
  }
 ],
 "metadata": {
  "kernelspec": {
   "display_name": "Python 3",
   "language": "python",
   "name": "python3"
  },
  "language_info": {
   "codemirror_mode": {
    "name": "ipython",
    "version": 3
   },
   "file_extension": ".py",
   "mimetype": "text/x-python",
   "name": "python",
   "nbconvert_exporter": "python",
   "pygments_lexer": "ipython3",
   "version": "3.6.6"
  }
 },
 "nbformat": 4,
 "nbformat_minor": 2
}

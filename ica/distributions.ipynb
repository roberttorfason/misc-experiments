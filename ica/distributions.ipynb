{
 "cells": [
  {
   "cell_type": "code",
   "execution_count": null,
   "metadata": {},
   "outputs": [],
   "source": [
    "import matplotlib.pyplot as plt\n",
    "from mpl_toolkits.mplot3d import Axes3D\n",
    "import numpy as np\n",
    "from scipy import signal"
   ]
  },
  {
   "cell_type": "code",
   "execution_count": null,
   "metadata": {},
   "outputs": [],
   "source": [
    "def bump_1d(x, low=-1, high=1, h0=0):\n",
    "    assert low < high\n",
    "    return np.heaviside((x - low), h0) * np.heaviside((high - x), h0)\n",
    "\n",
    "def bump_2d(x, y, low=-1, high=1, h0=0):\n",
    "    return bump_1d(x, low, high, h0) * bump_1d(y, low, high, h0)\n",
    "\n",
    "def uniform_pdf_2d(x, y, low=-1, high=1):\n",
    "    area = (high - low)**2\n",
    "    return 1 / area * bump_2d(x, y, low, high)    "
   ]
  },
  {
   "cell_type": "code",
   "execution_count": null,
   "metadata": {},
   "outputs": [],
   "source": [
    "# A = np.array([[0, -1], [1, 0]])\n",
    "theta = np.pi / 4\n",
    "A = np.array([[1.5* np.cos(theta), -np.sin(theta)], [np.sin(theta), np.cos(theta)]])\n",
    "\n",
    "A_inv = np.linalg.inv(A)\n",
    "detA = np.linalg.det(A)\n",
    "print(A)\n",
    "print(A_inv)\n",
    "print(detA)\n",
    "\n",
    "n_samples = 1000\n",
    "t = np.linspace(0, 8, n_samples)"
   ]
  },
  {
   "cell_type": "code",
   "execution_count": null,
   "metadata": {},
   "outputs": [],
   "source": [
    "# Explore PDFs under linear mappings\n",
    "x0 = np.linspace(-1.5, 1.5, 50)\n",
    "y0 = np.linspace(-1.5, 1.5, 50)\n",
    "xv, yv = np.meshgrid(x0, y0, sparse=False, indexing='xy')"
   ]
  },
  {
   "cell_type": "code",
   "execution_count": null,
   "metadata": {},
   "outputs": [],
   "source": [
    "zv = uniform_pdf_2d(xv, yv, low=-1, high=1)\n",
    "\n",
    "fig = plt.figure()\n",
    "ax = fig.add_subplot(111, projection='3d')\n",
    "\n",
    "ax.scatter(xv, yv, zv)"
   ]
  },
  {
   "cell_type": "code",
   "execution_count": null,
   "metadata": {},
   "outputs": [],
   "source": [
    "org_shape = xv.shape\n",
    "support_transform = np.array([xv.ravel(), yv.ravel()])\n",
    "support_transform = np.dot(A_inv, support_transform)\n",
    "\n",
    "xv_transform = support_transform[0, :].reshape(org_shape)\n",
    "yv_transform = support_transform[1, :].reshape(org_shape)\n",
    "\n",
    "zv = uniform_pdf_2d(xv_transform, yv_transform, low=-1, high=1) / np.abs(detA)\n",
    "\n",
    "fig = plt.figure()\n",
    "ax = fig.add_subplot(111, projection='3d')\n",
    "\n",
    "ax.scatter(xv, yv, zv)"
   ]
  },
  {
   "cell_type": "code",
   "execution_count": null,
   "metadata": {},
   "outputs": [],
   "source": [
    "x = np.random.uniform(low=-1, high=1, size=(2, n_samples))\n",
    "\n",
    "plt.figure()\n",
    "plt.scatter(x[0, :], x[1, :], alpha=0.5)\n",
    "plt.xlim([-2, 2])\n",
    "plt.ylim([-2, 2])\n",
    "\n",
    "plt.figure()\n",
    "plt.plot(t, x.T)\n",
    "\n",
    "x_mix = np.dot(A, x)\n",
    "plt.figure()\n",
    "plt.plot(t, x_mix.T)\n",
    "\n",
    "\n",
    "plt.figure()\n",
    "plt.scatter(x_mix[0, :], x_mix[1, :])\n",
    "plt.xlim([-3, 3])\n",
    "plt.ylim([-3, 3])"
   ]
  },
  {
   "cell_type": "code",
   "execution_count": null,
   "metadata": {},
   "outputs": [],
   "source": [
    "s0 = np.sin(2 * t)  # Signal 0 : sinusoidal signal\n",
    "s1 = np.sign(np.sin(3 * t))  # Signal 2 : square signal\n",
    "s2 = signal.sawtooth(2 * np.pi * t)  # Signal 3: saw tooth signal\n",
    "\n",
    "s = np.array([s0, s2])\n",
    "\n",
    "s_mix = np.dot(A, s)\n",
    "\n",
    "s_mix.shape"
   ]
  },
  {
   "cell_type": "code",
   "execution_count": null,
   "metadata": {},
   "outputs": [],
   "source": [
    "s = s_mix.T\n",
    "\n",
    "plt.figure()\n",
    "plt.plot(t, s)\n",
    "# plt.plot(s2)\n",
    "\n",
    "plt.figure()\n",
    "plt.scatter(s[:, 0], s[:, 1])\n",
    "\n",
    "\n",
    "plt.figure()\n",
    "plt.scatter(s[:, 0], s[:, 1])"
   ]
  },
  {
   "cell_type": "code",
   "execution_count": null,
   "metadata": {},
   "outputs": [],
   "source": []
  }
 ],
 "metadata": {
  "kernelspec": {
   "display_name": "Python 3",
   "language": "python",
   "name": "python3"
  },
  "language_info": {
   "codemirror_mode": {
    "name": "ipython",
    "version": 3
   },
   "file_extension": ".py",
   "mimetype": "text/x-python",
   "name": "python",
   "nbconvert_exporter": "python",
   "pygments_lexer": "ipython3",
   "version": "3.6.6"
  }
 },
 "nbformat": 4,
 "nbformat_minor": 2
}

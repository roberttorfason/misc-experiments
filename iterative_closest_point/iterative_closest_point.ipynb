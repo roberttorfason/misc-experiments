{
 "cells": [
  {
   "cell_type": "code",
   "execution_count": null,
   "metadata": {},
   "outputs": [],
   "source": [
    "import numpy as np\n",
    "import matplotlib.pyplot as plt"
   ]
  },
  {
   "cell_type": "code",
   "execution_count": null,
   "metadata": {},
   "outputs": [],
   "source": []
  },
  {
   "cell_type": "code",
   "execution_count": null,
   "metadata": {},
   "outputs": [],
   "source": [
    "def generate_circle(r, n):\n",
    "    theta = np.linspace(0, 2 * np.pi, n, endpoint=False)\n",
    "    return np.c_[np.cos(theta), np.sin(theta)]"
   ]
  },
  {
   "cell_type": "code",
   "execution_count": null,
   "metadata": {},
   "outputs": [],
   "source": [
    "fig, ax = plt.subplots()\n",
    "\n",
    "circle0 = generate_circle(1, 4)\n",
    "circle1 = generate_circle(1, 5) + np.array([10, 11])\n",
    "\n",
    "ax.scatter(circle0[:, 0], circle0[:, 1])\n",
    "ax.scatter(circle1[:, 0], circle1[:, 1])\n",
    "#ax.set_xlim([-2, 4])\n",
    "#ax.set_ylim([-2, 4])"
   ]
  },
  {
   "cell_type": "code",
   "execution_count": null,
   "metadata": {},
   "outputs": [],
   "source": [
    "from scipy.spatial import distance_matrix\n",
    "from sklearn.linear_model import LinearRegression\n",
    "\n",
    "\n",
    "# We are matching circle0 with circle1\n",
    "d = distance_matrix(circle0, circle1)\n",
    "idxs = np.argmin(d, axis=1)\n",
    "\n",
    "reg = LinearRegression(fit_intercept=False, normalize=False)\n",
    "reg\n",
    "\n",
    "reg = reg.fit(np.ones((4, 1)), circle1[idxs] - circle0)\n",
    "\n"
   ]
  },
  {
   "cell_type": "code",
   "execution_count": null,
   "metadata": {},
   "outputs": [],
   "source": [
    "fig, ax = plt.subplots()\n",
    "\n",
    "circle0_it0 = circle0 + np.squeeze(reg.coef_)\n",
    "circle1_it0 = circle1\n",
    "\n",
    "ax.scatter(circle0_it0[:, 0], circle0_it0[:, 1])\n",
    "ax.scatter(circle1_it0[:, 0], circle1_it0[:, 1])"
   ]
  },
  {
   "cell_type": "code",
   "execution_count": null,
   "metadata": {},
   "outputs": [],
   "source": [
    "d = distance_matrix(circle0_it0, circle1_it0)\n",
    "idxs = np.argmin(d, axis=1)\n",
    "idxs\n",
    "\n",
    "\n",
    "reg = LinearRegression(fit_intercept=False, normalize=False)\n",
    "reg\n",
    "\n",
    "reg = reg.fit(np.ones((4, 1)), circle1[idxs] - circle0_it0)\n",
    "\n",
    "reg.coef_\n"
   ]
  },
  {
   "cell_type": "code",
   "execution_count": null,
   "metadata": {},
   "outputs": [],
   "source": [
    "fig, ax = plt.subplots()\n",
    "\n",
    "circle0_it1 = circle0_it0 + np.squeeze(reg.coef_)\n",
    "circle1_it1 = circle1\n",
    "\n",
    "ax.scatter(circle0_it1[:, 0], circle0_it1[:, 1])\n",
    "ax.scatter(circle1_it1[:, 0], circle1_it1[:, 1])"
   ]
  },
  {
   "cell_type": "code",
   "execution_count": null,
   "metadata": {},
   "outputs": [],
   "source": []
  }
 ],
 "metadata": {
  "kernelspec": {
   "display_name": "Python 3",
   "language": "python",
   "name": "python3"
  },
  "language_info": {
   "codemirror_mode": {
    "name": "ipython",
    "version": 3
   },
   "file_extension": ".py",
   "mimetype": "text/x-python",
   "name": "python",
   "nbconvert_exporter": "python",
   "pygments_lexer": "ipython3",
   "version": "3.7.6"
  }
 },
 "nbformat": 4,
 "nbformat_minor": 4
}

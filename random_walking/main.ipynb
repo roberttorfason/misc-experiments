{
 "cells": [
  {
   "cell_type": "code",
   "execution_count": null,
   "metadata": {},
   "outputs": [],
   "source": [
    "import matplotlib\n",
    "import matplotlib.pyplot as plt\n",
    "import numpy as np\n",
    "import pandas as pd\n",
    "import scipy\n",
    "import sklearn\n",
    "import sklearn.decomposition"
   ]
  },
  {
   "cell_type": "code",
   "execution_count": null,
   "metadata": {},
   "outputs": [],
   "source": [
    "def random_walk(num_steps, num_dims, sigma=1.0):\n",
    "    x = sigma * np.random.standard_normal(size=(num_steps, num_dims))\n",
    "    np.cumsum(x, axis=0, out=x)\n",
    "    return x\n",
    "\n",
    "def center_data(x):\n",
    "    return x - np.mean(x, axis=0)"
   ]
  },
  {
   "cell_type": "code",
   "execution_count": null,
   "metadata": {},
   "outputs": [],
   "source": [
    "x = random_walk(5000, 2, sigma=0.15)"
   ]
  },
  {
   "cell_type": "code",
   "execution_count": null,
   "metadata": {},
   "outputs": [],
   "source": [
    "mean = (0, 0)\n",
    "cov = [[1, 0.7], [0.7, 1]]\n",
    "x = np.random.multivariate_normal(mean, cov, (500,))\n",
    "\n",
    "#x = center_data(x)\n",
    "#print(x.shape)\n",
    "#plt.plot(x[:,0], x[:,1], 'o', markersize=1)"
   ]
  },
  {
   "cell_type": "code",
   "execution_count": null,
   "metadata": {},
   "outputs": [],
   "source": [
    "pca = sklearn.decomposition.PCA()\n",
    "x = pca.fit_transform(x)\n",
    "#c = pca.components_\n",
    "#np.cumsum(pca.explained_variance_ratio_)\n",
    "#c"
   ]
  },
  {
   "cell_type": "code",
   "execution_count": null,
   "metadata": {},
   "outputs": [],
   "source": [
    "plt.plot(x[:, 0], x[:, 1], 'o')\n",
    "#plt.plot([0, c[0, 0]], [0, c[0, 1]])\n",
    "#plt.plot([0, c[1, 0]], [0, c[1, 1]])"
   ]
  },
  {
   "cell_type": "code",
   "execution_count": null,
   "metadata": {},
   "outputs": [],
   "source": [
    "x = np.random.standard_normal((4, 2))\n",
    "x = center_data(x)\n",
    "\n",
    "xx0 = np.matmul(x.transpose(), x)\n",
    "xx1 = np.matmul(x, x.transpose())\n",
    "\n",
    "w0, v0 = np.linalg.eig(xx0)\n",
    "w1, v1 = np.linalg.eig(xx1)\n",
    "\n",
    "print(np.matmul(xx0, v0))\n",
    "print(w0 * v0)\n",
    "\n",
    "print(np.matmul(xx1, v1))\n",
    "print(w1 * v1)"
   ]
  }
 ],
 "metadata": {
  "kernelspec": {
   "display_name": "Python 3",
   "language": "python",
   "name": "python3"
  },
  "language_info": {
   "codemirror_mode": {
    "name": "ipython",
    "version": 3
   },
   "file_extension": ".py",
   "mimetype": "text/x-python",
   "name": "python",
   "nbconvert_exporter": "python",
   "pygments_lexer": "ipython3",
   "version": "3.6.5"
  }
 },
 "nbformat": 4,
 "nbformat_minor": 2
}

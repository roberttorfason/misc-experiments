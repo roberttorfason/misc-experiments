{
 "cells": [
  {
   "cell_type": "code",
   "execution_count": null,
   "metadata": {},
   "outputs": [],
   "source": [
    "import numpy as np\n",
    "import bqplot.pyplot as plt\n",
    "from ipywidgets import FloatSlider, HBox, VBox"
   ]
  },
  {
   "cell_type": "markdown",
   "metadata": {},
   "source": [
    " # Logistic function\n",
    " $$f(x) = \\frac{L}{1 + e^{-s(x - k)}}$$\n",
    " Note that this fully specifies the function since\n",
    " $$\\frac{L}{t + e^{-s(x - k)}} = \\frac{L / t}{1 + \\frac{1}{t} e^{-s(x - k)}} = \\frac{L / t}{1 + e^{-ln(t)} e^{-s(x - k)}} = \\frac{L / t}{1 + e^{-s(x - k) - ln(t)}} = \\frac{L / t}{1 + e^{-s(x - k + ln(t) / s)}} = \\frac{L'}{1 + e^{-s(x - k')}}$$\n",
    " and\n",
    "  $$\\frac{L}{1 + t e^{-s(x - k)}} = \\frac{L}{1 + \\frac{1}{t'} e^{-s(x - k)}} = \\frac{L}{1 + e^{-s(x - k + ln(t') / s)}} = \\frac{L}{1 + e^{-s(x - k')}}$$"
   ]
  },
  {
   "cell_type": "code",
   "execution_count": null,
   "metadata": {},
   "outputs": [],
   "source": [
    "def logistic(x, amp, slope, shift):\n",
    "    return amp / (1 + np.exp(-slope * (x - shift)))"
   ]
  },
  {
   "cell_type": "code",
   "execution_count": null,
   "metadata": {},
   "outputs": [],
   "source": [
    "amp_slider = FloatSlider(description='Amplitude', value=1, min=1, max=10, step=.1)\n",
    "slope_slider = FloatSlider(description='slope', value=1, min=0.1, max=10, step=.1)\n",
    "shift_slider = FloatSlider(description='shift', value=0, min=0, max=100, step=1)"
   ]
  },
  {
   "cell_type": "code",
   "execution_count": null,
   "metadata": {},
   "outputs": [],
   "source": [
    "x = np.linspace(0, 50, num=1000)\n",
    "x_e = np.linspace(0, 15, num=40)\n",
    "y = logistic(x, 1, 1, 0)\n",
    "y_e = logistic(x_e, 3, 0.5, 15) + 0.1 * np.random.standard_exponential(x_e.shape)\n",
    "\n",
    "# plot the gaussian density\n",
    "title_tmpl = 'Sigmoid (amplitude={}, slope={}, shift={})'\n",
    "logistic_fig = plt.figure(title=title_tmpl.format(1, 1, 0))\n",
    "logistic_line = plt.plot(x, y, \"m\", stroke_width=3)\n",
    "plt.scatter(x_e, y_e);"
   ]
  },
  {
   "cell_type": "code",
   "execution_count": null,
   "metadata": {},
   "outputs": [],
   "source": [
    "def update_logistic(change):\n",
    "    amp_new = amp_slider.value\n",
    "    slope_new = slope_slider.value\n",
    "    shift_new = shift_slider.value\n",
    "    \n",
    "    logistic_line.y = logistic(x, amp_new, slope_new, shift_new)\n",
    "    \n",
    "    # also update the fig title\n",
    "    logistic_fig.title = title_tmpl.format(amp_new, slope_new, shift_new)"
   ]
  },
  {
   "cell_type": "code",
   "execution_count": null,
   "metadata": {},
   "outputs": [],
   "source": [
    "amp_slider.observe(update_logistic, 'value')\n",
    "slope_slider.observe(update_logistic, 'value')\n",
    "shift_slider.observe(update_logistic, 'value')"
   ]
  },
  {
   "cell_type": "code",
   "execution_count": null,
   "metadata": {},
   "outputs": [],
   "source": []
  },
  {
   "cell_type": "code",
   "execution_count": null,
   "metadata": {},
   "outputs": [],
   "source": [
    "from scipy.optimize import curve_fit"
   ]
  },
  {
   "cell_type": "code",
   "execution_count": null,
   "metadata": {},
   "outputs": [],
   "source": [
    "params, _ = curve_fit(logistic, x_e, y_e, maxfev=2000)\n",
    "amp_slider.value = params[0]\n",
    "slope_slider.value = params[1]\n",
    "shift_slider.value = params[2]\n",
    "params"
   ]
  },
  {
   "cell_type": "code",
   "execution_count": null,
   "metadata": {},
   "outputs": [],
   "source": [
    "VBox([logistic_fig, HBox([amp_slider, slope_slider, shift_slider])])"
   ]
  },
  {
   "cell_type": "code",
   "execution_count": null,
   "metadata": {},
   "outputs": [],
   "source": [
    "np.random.standard_normal(x_e.shape)"
   ]
  }
 ],
 "metadata": {
  "kernelspec": {
   "display_name": "Python 3",
   "language": "python",
   "name": "python3"
  },
  "language_info": {
   "codemirror_mode": {
    "name": "ipython",
    "version": 3
   },
   "file_extension": ".py",
   "mimetype": "text/x-python",
   "name": "python",
   "nbconvert_exporter": "python",
   "pygments_lexer": "ipython3",
   "version": "3.7.6"
  }
 },
 "nbformat": 4,
 "nbformat_minor": 4
}

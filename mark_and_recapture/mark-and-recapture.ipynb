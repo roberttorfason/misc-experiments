{
 "cells": [
  {
   "cell_type": "code",
   "execution_count": null,
   "metadata": {},
   "outputs": [],
   "source": [
    "import numpy as np\n",
    "import pandas as pd\n",
    "\n",
    "from scipy.stats import norm\n",
    "import matplotlib.pyplot as plt"
   ]
  },
  {
   "cell_type": "code",
   "execution_count": null,
   "metadata": {},
   "outputs": [],
   "source": [
    "n = 100\n",
    "a = 0.4\n",
    "seen_all = set()\n",
    "k_all = []\n",
    "ratio_all = []\n",
    "side = np.sqrt(a)\n",
    "\n",
    "t = np.linspace(0, 300, 1000, endpoint=False)\n",
    "delta = np.unique(np.diff(t))[0]\n",
    "p = np.ones_like(t)\n",
    "p = _normalize(p, delta)\n",
    "\n",
    "fig, ax = plt.subplots(1, 1)\n",
    "ax.plot([100, 100], [0, 0.09], \"r--\")\n",
    "\n",
    "\n",
    "# Use hypergeometric distribution for the likelihood. And understand\n",
    "\n",
    "\n",
    "\n",
    "for i in range(100):\n",
    "    x = np.random.random((n, 2))\n",
    "    idx_captured, = np.where(np.sum(x < side, axis=1) == 2)\n",
    "\n",
    "    k_curr = len(idx_captured)\n",
    "    k_all.append(k_curr)\n",
    "    seen_currently = set(idx_captured)\n",
    "    \n",
    "    if i != 0:\n",
    "        ratio = len(seen_currently.intersection(seen_all)) / len(seen_all)\n",
    "        ratio_all.append(ratio)\n",
    "        # This doesn't make sense, always using a new updated theta\n",
    "        p *= norm.pdf(t, k_curr / np.mean(ratio_all), 50)\n",
    "\n",
    "    seen_all.update(seen_currently)\n",
    "    \n",
    "    p = _normalize(p, delta)\n",
    "    if i % 5 == 0:\n",
    "        ax.plot(t, p)\n",
    "    \n",
    "print(np.mean(k_all))\n",
    "print(np.mean(ratio_all))\n",
    "\n",
    "print(np.mean(k_all) / np.mean(ratio_all))\n"
   ]
  },
  {
   "cell_type": "code",
   "execution_count": null,
   "metadata": {},
   "outputs": [],
   "source": [
    "def _normalize(_x, _delta):\n",
    "    return _x / np.sum(_x * _delta)\n",
    "\n",
    "fig, ax = plt.subplots(1, 1)\n",
    "t = np.linspace(0, 100, 1000, endpoint=False)\n",
    "delta = np.unique(np.diff(t))[0]\n",
    "x = np.ones_like(t)\n",
    "\n",
    "for i in range(10):\n",
    "    x = _normalize(x, delta)\n",
    "    ax.plot(t, x)\n",
    "    x *= norm.pdf(t, 50 + np.random.standard_normal() * 5, 20)\n",
    "\n",
    "ax.set_xlim([0, 100])"
   ]
  },
  {
   "cell_type": "code",
   "execution_count": null,
   "metadata": {},
   "outputs": [],
   "source": []
  }
 ],
 "metadata": {
  "kernelspec": {
   "display_name": "Python 3",
   "language": "python",
   "name": "python3"
  },
  "language_info": {
   "codemirror_mode": {
    "name": "ipython",
    "version": 3
   },
   "file_extension": ".py",
   "mimetype": "text/x-python",
   "name": "python",
   "nbconvert_exporter": "python",
   "pygments_lexer": "ipython3",
   "version": "3.7.6"
  }
 },
 "nbformat": 4,
 "nbformat_minor": 4
}
